{
  "nbformat": 4,
  "nbformat_minor": 0,
  "metadata": {
    "colab": {
      "provenance": []
    },
    "kernelspec": {
      "name": "python3",
      "display_name": "Python 3"
    },
    "language_info": {
      "name": "python"
    }
  },
  "cells": [
    {
      "cell_type": "code",
      "execution_count": 10,
      "metadata": {
        "colab": {
          "base_uri": "https://localhost:8080/"
        },
        "id": "8kvU5ohkKKAY",
        "outputId": "5bfdfbe5-206d-4d7a-8365-61613882a055"
      },
      "outputs": [
        {
          "output_type": "stream",
          "name": "stdout",
          "text": [
            "Current State:\n",
            "[[2, 8, 3], [1, 6, 4], [0, 7, 5]]\n",
            "h(n) = 6\n",
            "Neighbor State:\n",
            "[[2, 8, 3], [0, 6, 4], [1, 7, 5]]\n",
            "h(n) = 7\n",
            "Neighbor State:\n",
            "[[2, 8, 3], [1, 6, 4], [7, 0, 5]]\n",
            "h(n) = 5\n",
            "Current State:\n",
            "[[2, 8, 3], [1, 6, 4], [7, 0, 5]]\n",
            "h(n) = 5\n",
            "Neighbor State:\n",
            "[[2, 8, 3], [1, 0, 4], [7, 6, 5]]\n",
            "h(n) = 4\n",
            "Neighbor State:\n",
            "[[2, 8, 3], [1, 6, 4], [0, 7, 5]]\n",
            "h(n) = 6\n",
            "Neighbor State:\n",
            "[[2, 8, 3], [1, 6, 4], [7, 5, 0]]\n",
            "h(n) = 6\n",
            "Current State:\n",
            "[[2, 8, 3], [1, 0, 4], [7, 6, 5]]\n",
            "h(n) = 4\n",
            "Neighbor State:\n",
            "[[2, 0, 3], [1, 8, 4], [7, 6, 5]]\n",
            "h(n) = 3\n",
            "Neighbor State:\n",
            "[[2, 8, 3], [0, 1, 4], [7, 6, 5]]\n",
            "h(n) = 5\n",
            "Neighbor State:\n",
            "[[2, 8, 3], [1, 4, 0], [7, 6, 5]]\n",
            "h(n) = 5\n",
            "Current State:\n",
            "[[2, 0, 3], [1, 8, 4], [7, 6, 5]]\n",
            "h(n) = 3\n",
            "Neighbor State:\n",
            "[[0, 2, 3], [1, 8, 4], [7, 6, 5]]\n",
            "h(n) = 2\n",
            "Neighbor State:\n",
            "[[2, 3, 0], [1, 8, 4], [7, 6, 5]]\n",
            "h(n) = 4\n",
            "Current State:\n",
            "[[0, 2, 3], [1, 8, 4], [7, 6, 5]]\n",
            "h(n) = 2\n",
            "Neighbor State:\n",
            "[[1, 2, 3], [0, 8, 4], [7, 6, 5]]\n",
            "h(n) = 1\n",
            "Current State:\n",
            "[[1, 2, 3], [0, 8, 4], [7, 6, 5]]\n",
            "h(n) = 1\n",
            "Neighbor State:\n",
            "[[1, 2, 3], [7, 8, 4], [0, 6, 5]]\n",
            "h(n) = 2\n",
            "Neighbor State:\n",
            "[[1, 2, 3], [8, 0, 4], [7, 6, 5]]\n",
            "h(n) = 0\n",
            "Solution Found:\n",
            "[2, 8, 3]\n",
            "[1, 6, 4]\n",
            "[0, 7, 5]\n",
            "\n",
            "[2, 8, 3]\n",
            "[1, 6, 4]\n",
            "[7, 0, 5]\n",
            "\n",
            "[2, 8, 3]\n",
            "[1, 0, 4]\n",
            "[7, 6, 5]\n",
            "\n",
            "[2, 0, 3]\n",
            "[1, 8, 4]\n",
            "[7, 6, 5]\n",
            "\n",
            "[0, 2, 3]\n",
            "[1, 8, 4]\n",
            "[7, 6, 5]\n",
            "\n",
            "[1, 2, 3]\n",
            "[0, 8, 4]\n",
            "[7, 6, 5]\n",
            "\n",
            "[1, 2, 3]\n",
            "[8, 0, 4]\n",
            "[7, 6, 5]\n",
            "\n"
          ]
        },
        {
          "output_type": "execute_result",
          "data": {
            "text/plain": [
              "6"
            ]
          },
          "metadata": {},
          "execution_count": 10
        }
      ],
      "source": [
        "def astar_manhattan(start, goal):\n",
        "    open_list = [(start, 0, [])]\n",
        "    visited = set()\n",
        "\n",
        "    while open_list:\n",
        "        current, g, path = open_list.pop(0)\n",
        "\n",
        "        path = path + [current]\n",
        "\n",
        "        if current == goal:\n",
        "            print(\"Solution Found:\")\n",
        "            print_path(path)\n",
        "            return g\n",
        "\n",
        "        # Calculate h(n) for the current state\n",
        "        h = manhattan_distance(current, goal)\n",
        "        print(f\"Current State:\\n{current}\\nh(n) = {h}\")\n",
        "\n",
        "        for neighbor in get_neighbors(current):\n",
        "            neighbor_tuple = tuple(map(tuple, neighbor))\n",
        "            if neighbor_tuple not in visited:\n",
        "                visited.add(neighbor_tuple)\n",
        "                h_neighbor = manhattan_distance(neighbor, goal)\n",
        "                open_list.append((neighbor, g + 1, path))\n",
        "                print(f\"Neighbor State:\\n{neighbor}\\nh(n) = {h_neighbor}\")\n",
        "\n",
        "        open_list.sort(key=lambda x: x[1] + manhattan_distance(x[0], goal))\n",
        "\n",
        "    return -1\n",
        "\n",
        "# Example usage\n",
        "start = [[2, 8, 3], [1, 6, 4], [0, 7, 5]]\n",
        "goal = [[1, 2, 3], [8, 0, 4], [7, 6, 5]]\n",
        "astar_manhattan(start, goal)\n"
      ]
    }
  ]
}