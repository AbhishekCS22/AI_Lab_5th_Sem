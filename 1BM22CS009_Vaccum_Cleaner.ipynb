{
  "nbformat": 4,
  "nbformat_minor": 0,
  "metadata": {
    "colab": {
      "provenance": []
    },
    "kernelspec": {
      "name": "python3",
      "display_name": "Python 3"
    },
    "language_info": {
      "name": "python"
    }
  },
  "cells": [
    {
      "cell_type": "code",
      "source": [
        "class VacuumCleanerAgent:\n",
        "    def __init__(self, initial_position):\n",
        "        # Initialize a 1x2 grid with \"Dirty\" states\n",
        "        self.grid = ['Dirty', 'Dirty']\n",
        "        self.position = initial_position\n",
        "        self.cleaned_count = 0\n",
        "\n",
        "    def print_grid(self):\n",
        "        print(\"Grid:\", self.grid)\n",
        "\n",
        "    def is_clean(self):\n",
        "        return self.cleaned_count == len(self.grid)\n",
        "\n",
        "    def clean(self):\n",
        "        if self.grid[self.position] == 'Dirty':\n",
        "            self.grid[self.position] = 'Clean'\n",
        "            self.cleaned_count += 1\n",
        "            print(f\"Cleaned position {self.position}.\")\n",
        "        else:\n",
        "            print(f\"Position {self.position} is already clean.\")\n",
        "\n",
        "    def move(self):\n",
        "        # Move to the next position (toggle between 0 and 1)\n",
        "        if self.position == 0:\n",
        "            self.position = 1\n",
        "        else:\n",
        "            self.position = 0\n",
        "\n",
        "        print(f\"Moved to position {self.position}.\")\n",
        "\n",
        "    def run(self):\n",
        "        while not self.is_clean():\n",
        "            self.clean()\n",
        "            self.move()\n",
        "            self.print_grid()\n",
        "\n",
        "        print(\"All positions cleaned!\")\n",
        "\n",
        "if __name__ == \"__main__\":\n",
        "    initial_position = int(input(\"Enter initial position (0 or 1): \"))\n",
        "\n",
        "    if initial_position in [0, 1]:\n",
        "        vacuum = VacuumCleanerAgent(initial_position)\n",
        "        vacuum.print_grid()\n",
        "        vacuum.run()\n",
        "    else:\n",
        "        print(\"Invalid initial position.\")\n"
      ],
      "metadata": {
        "colab": {
          "base_uri": "https://localhost:8080/"
        },
        "id": "_aKKoaO7NBzZ",
        "outputId": "b5e5b3ce-9001-406d-f74e-b7649692739d"
      },
      "execution_count": 6,
      "outputs": [
        {
          "output_type": "stream",
          "name": "stdout",
          "text": [
            "Enter initial position (0 or 1): 0\n",
            "Grid: ['Dirty', 'Dirty']\n",
            "Cleaned position 0.\n",
            "Moved to position 1.\n",
            "Grid: ['Clean', 'Dirty']\n",
            "Cleaned position 1.\n",
            "Moved to position 0.\n",
            "Grid: ['Clean', 'Clean']\n",
            "All positions cleaned!\n"
          ]
        }
      ]
    },
    {
      "cell_type": "code",
      "source": [
        "\n",
        "import random\n",
        "def check(row, col):\n",
        "    if arr[row][col] == '_':\n",
        "        return True\n",
        "    else:\n",
        "        return False\n",
        "\n",
        "def check2():\n",
        "    for i in range(3):\n",
        "        for j in range(3):\n",
        "            if arr[i][j] == '_':\n",
        "                return True\n",
        "    return False\n",
        "\n",
        "def print_board():\n",
        "    for row in arr:\n",
        "        print(\" | \".join(row))\n",
        "        print(\"-\" * 9)\n",
        "\n",
        "def check_win(player):\n",
        "    for i in range(3):\n",
        "        if all([arr[i][j] == player for j in range(3)]):\n",
        "            return True\n",
        "        if all([arr[j][i] == player for j in range(3)]):\n",
        "            return True\n",
        "    if arr[0][0] == player and arr[1][1] == player and arr[2][2] == player:\n",
        "        return True\n",
        "    if arr[0][2] == player and arr[1][1] == player and arr[2][0] == player:\n",
        "        return True\n",
        "    return False\n",
        "\n",
        "arr = [['_', '_', '_'],\n",
        "       ['_', '_', '_'],\n",
        "       ['_', '_', '_']]\n",
        "print_board()\n",
        "while check2():\n",
        "    row = int(input(\"Enter row (0-2): \"))\n",
        "    col = int(input(\"Enter column (0-2): \"))\n",
        "    while not check(row, col):\n",
        "        print(\"Place already occupied, try again.\")\n",
        "        row = int(input(\"Enter row (0-2): \"))\n",
        "        col = int(input(\"Enter column (0-2): \"))\n",
        "    arr[row][col] = 'X'\n",
        "    print_board()\n",
        "    if check_win('X'):\n",
        "        print(\"Congratulations! You win!\")\n",
        "        break\n",
        "    if not check2():\n",
        "        print(\"It's a draw!\")\n",
        "        break\n",
        "    print(\"Computer's turn...\")\n",
        "    row, col = random.randint(0, 2), random.randint(0, 2)\n",
        "    while not check(row, col):\n",
        "        row, col = random.randint(0, 2), random.randint(0, 2)\n",
        "    arr[row][col] = 'O'\n",
        "    print_board()\n",
        "    if check_win('O'):\n",
        "        print(\"Computer wins! Better luck next time.\")\n",
        "        break\n",
        "    if not check2():\n",
        "        print(\"It's a draw!\")\n",
        "        break"
      ],
      "metadata": {
        "colab": {
          "base_uri": "https://localhost:8080/"
        },
        "id": "VfqCqbazPwB_",
        "outputId": "538a8e23-ddf2-451e-c5e4-7e145bdcb470"
      },
      "execution_count": 10,
      "outputs": [
        {
          "output_type": "stream",
          "name": "stdout",
          "text": [
            "_ | _ | _\n",
            "---------\n",
            "_ | _ | _\n",
            "---------\n",
            "_ | _ | _\n",
            "---------\n",
            "Enter row (0-2): 0\n",
            "Enter column (0-2): 1\n",
            "_ | X | _\n",
            "---------\n",
            "_ | _ | _\n",
            "---------\n",
            "_ | _ | _\n",
            "---------\n",
            "Computer's turn...\n",
            "_ | X | _\n",
            "---------\n",
            "_ | _ | _\n",
            "---------\n",
            "_ | O | _\n",
            "---------\n",
            "Enter row (0-2): 0\n",
            "Enter column (0-2): 2\n",
            "_ | X | X\n",
            "---------\n",
            "_ | _ | _\n",
            "---------\n",
            "_ | O | _\n",
            "---------\n",
            "Computer's turn...\n",
            "_ | X | X\n",
            "---------\n",
            "O | _ | _\n",
            "---------\n",
            "_ | O | _\n",
            "---------\n",
            "Enter row (0-2): 0\n",
            "Enter column (0-2): 0\n",
            "X | X | X\n",
            "---------\n",
            "O | _ | _\n",
            "---------\n",
            "_ | O | _\n",
            "---------\n",
            "Congratulations! You win!\n"
          ]
        },
        {
          "output_type": "execute_result",
          "data": {
            "text/plain": [
              "1"
            ]
          },
          "metadata": {},
          "execution_count": 10
        }
      ]
    }
  ]
}