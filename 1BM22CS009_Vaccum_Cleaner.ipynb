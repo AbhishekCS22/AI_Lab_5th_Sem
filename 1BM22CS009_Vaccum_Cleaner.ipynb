{
  "nbformat": 4,
  "nbformat_minor": 0,
  "metadata": {
    "colab": {
      "provenance": []
    },
    "kernelspec": {
      "name": "python3",
      "display_name": "Python 3"
    },
    "language_info": {
      "name": "python"
    }
  },
  "cells": [
    {
      "cell_type": "code",
      "execution_count": 1,
      "metadata": {
        "colab": {
          "base_uri": "https://localhost:8080/"
        },
        "id": "qBWD8fyTmOyJ",
        "outputId": "27e7b091-ac7f-4acf-d031-e323d0626d43"
      },
      "outputs": [
        {
          "output_type": "stream",
          "name": "stdout",
          "text": [
            "Enter initial position (0 or 1): 0\n",
            "Grid: ['Dirty', 'Dirty']\n",
            "Cleaned position 0.\n",
            "Moved to position 1.\n",
            "Grid: ['Clean', 'Dirty']\n",
            "Cleaned position 1.\n",
            "Moved to position 0.\n",
            "Grid: ['Clean', 'Clean']\n",
            "All positions cleaned!\n"
          ]
        }
      ],
      "source": [
        "class VacuumCleanerAgent:\n",
        "    def __init__(self, initial_position):\n",
        "        # Initialize a 1x2 grid with \"Dirty\" states\n",
        "        self.grid = ['Dirty', 'Dirty']\n",
        "        self.position = initial_position\n",
        "        self.cleaned_count = 0\n",
        "\n",
        "    def print_grid(self):\n",
        "        print(\"Grid:\", self.grid)\n",
        "\n",
        "    def is_clean(self):\n",
        "        return self.cleaned_count == len(self.grid)\n",
        "\n",
        "    def clean(self):\n",
        "        if self.grid[self.position] == 'Dirty':\n",
        "            self.grid[self.position] = 'Clean'\n",
        "            self.cleaned_count += 1\n",
        "            print(f\"Cleaned position {self.position}.\")\n",
        "        else:\n",
        "            print(f\"Position {self.position} is already clean.\")\n",
        "\n",
        "    def move(self):\n",
        "        # Move to the next position (toggle between 0 and 1)\n",
        "        if self.position == 0:\n",
        "            self.position = 1\n",
        "        else:\n",
        "            self.position = 0\n",
        "\n",
        "        print(f\"Moved to position {self.position}.\")\n",
        "\n",
        "    def run(self):\n",
        "        while not self.is_clean():\n",
        "            self.clean()\n",
        "            self.move()\n",
        "            self.print_grid()\n",
        "\n",
        "        print(\"All positions cleaned!\")\n",
        "\n",
        "if __name__ == \"__main__\":\n",
        "    initial_position = int(input(\"Enter initial position (0 or 1): \"))\n",
        "\n",
        "    if initial_position in [0, 1]:\n",
        "        vacuum = VacuumCleanerAgent(initial_position)\n",
        "        vacuum.print_grid()\n",
        "        vacuum.run()\n",
        "    else:\n",
        "        print(\"Invalid initial position.\")\n"
      ]
    }
  ]
}