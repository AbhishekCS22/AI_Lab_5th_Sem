{
  "nbformat": 4,
  "nbformat_minor": 0,
  "metadata": {
    "colab": {
      "provenance": []
    },
    "kernelspec": {
      "name": "python3",
      "display_name": "Python 3"
    },
    "language_info": {
      "name": "python"
    }
  },
  "cells": [
    {
      "cell_type": "code",
      "execution_count": 7,
      "metadata": {
        "colab": {
          "base_uri": "https://localhost:8080/"
        },
        "id": "T87o3B7svxeZ",
        "outputId": "fa1f892b-6718-44d1-f366-6f00f59d4c96"
      },
      "outputs": [
        {
          "output_type": "stream",
          "name": "stdout",
          "text": [
            "He is Criminal\n"
          ]
        }
      ],
      "source": [
        "def forward_chaining(kb, query):\n",
        "    \"\"\"\n",
        "    Perform forward chaining to determine if the query can be inferred from the knowledge base.\n",
        "\n",
        "    Parameters:\n",
        "    kb (list): List of knowledge base rules and facts.\n",
        "    query (str): The query to be proven.\n",
        "\n",
        "    Returns:\n",
        "    bool: True if the query can be inferred, False otherwise.\n",
        "    \"\"\"\n",
        "    inferred = set()  # Stores inferred facts\n",
        "    agenda = [fact for fact in kb if \"->\" not in fact]  # Initial facts (those that are not rules)\n",
        "    rules = [rule for rule in kb if \"->\" in rule]  # Rules (those that contain \"->\")\n",
        "\n",
        "    while agenda:\n",
        "        fact = agenda.pop(0)\n",
        "\n",
        "        if fact in inferred:\n",
        "            continue\n",
        "\n",
        "        # Add the fact to the inferred set\n",
        "        inferred.add(fact)\n",
        "\n",
        "        # Check if any rule can be applied based on this new fact\n",
        "        for rule in rules:\n",
        "            premise, conclusion = rule.split(\" -> \")\n",
        "            premises = premise.split(\" AND \")\n",
        "\n",
        "            # Check if all premises are satisfied with the current inferred facts\n",
        "            if all(p in inferred for p in premises):\n",
        "                # If the conclusion matches the query, return True\n",
        "                if conclusion == query:\n",
        "                    return True\n",
        "                # If conclusion is not yet inferred, add to agenda\n",
        "                if conclusion not in inferred:\n",
        "                    agenda.append(conclusion)\n",
        "\n",
        "    return False  # Query not proven\n",
        "\n",
        "\n",
        "# Knowledge Base (KB) - Updated to prove Criminal(West)\n",
        "knowledge_base = [\n",
        "    # Facts\n",
        "    \"Enemy(Robert, America)\",  # Nono is the enemy of America\n",
        "    \"American(Robert)\",  # West is American\n",
        "    \"Weapon(m)\",  # m is a weapon\n",
        "    \"Sells(Robert, m, Nation)\",  # West sells m to Nono\n",
        "    \"Hostile(Nation)\",  # Nono is hostile\n",
        "\n",
        "    # Rules\n",
        "    \"Enemy(x, America) -> Hostile(x)\",  # If someone is the enemy of America, they are hostile\n",
        "    \"Missile(x) -> Weapon(x)\",  # If x is a missile, then it is a weapon\n",
        "    \"American(Robert) AND Weapon(m) AND Sells(Robert, m, Nation) AND Hostile(Nation) -> Criminal(Robert)\"  # If all conditions are true, West is a criminal\n",
        "]\n",
        "\n",
        "# Query to prove\n",
        "query_to_prove = \"Criminal(Robert)\"\n",
        "\n",
        "# Run Forward Chaining\n",
        "result = forward_chaining(knowledge_base, query_to_prove)\n",
        "\n",
        "if result:\n",
        "    print(\"He is Criminal\")\n",
        "else:\n",
        "    print(f\"The query '{query_to_prove}' cannot be proven.\")\n"
      ]
    }
  ]
}